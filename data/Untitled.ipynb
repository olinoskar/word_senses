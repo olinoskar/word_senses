{
 "cells": [
  {
   "cell_type": "code",
   "execution_count": 128,
   "metadata": {},
   "outputs": [],
   "source": [
    "import pandas as pd\n",
    "import numpy as np\n",
    "from sklearn import preprocessing\n",
    "\n",
    "\n",
    "df = pd.read_csv('master/master.csv')\n"
   ]
  },
  {
   "cell_type": "code",
   "execution_count": null,
   "metadata": {},
   "outputs": [],
   "source": []
  },
  {
   "cell_type": "code",
   "execution_count": 114,
   "metadata": {},
   "outputs": [
    {
     "data": {
      "text/plain": [
       "{0: {0}, 1: {1, 3, 4}, 2: {2}, 5: {5}, 6: {6}, 3: {1, 3, 4}, 4: {1, 3, 4}}"
      ]
     },
     "execution_count": 114,
     "metadata": {},
     "output_type": "execute_result"
    }
   ],
   "source": [
    "new_labels = dict.fromkeys(set(df['new_label'].values),0)\n",
    "for label in new_labels:\n",
    "    new_labels[label] = set()\n",
    "for ind, row in df.iterrows():\n",
    "    new_labels[row['new_label']].add(row['label'])\n",
    "\n",
    "new_dict = new_labels.copy()\n",
    "for new_label in new_labels:\n",
    "    for label in new_labels[new_label]:\n",
    "        if label not in new_dict:\n",
    "            new_dict[label] = set()\n",
    "        new_dict[label].add(new_label)\n",
    "        for label2 in new_labels[new_label]:\n",
    "            new_dict[label].add(label2)\n",
    "new_dict"
   ]
  },
  {
   "cell_type": "code",
   "execution_count": 115,
   "metadata": {},
   "outputs": [],
   "source": []
  },
  {
   "cell_type": "code",
   "execution_count": null,
   "metadata": {},
   "outputs": [],
   "source": []
  },
  {
   "cell_type": "code",
   "execution_count": null,
   "metadata": {},
   "outputs": [],
   "source": []
  },
  {
   "cell_type": "code",
   "execution_count": null,
   "metadata": {},
   "outputs": [],
   "source": []
  }
 ],
 "metadata": {
  "kernelspec": {
   "display_name": "Python 3",
   "language": "python",
   "name": "python3"
  },
  "language_info": {
   "codemirror_mode": {
    "name": "ipython",
    "version": 3
   },
   "file_extension": ".py",
   "mimetype": "text/x-python",
   "name": "python",
   "nbconvert_exporter": "python",
   "pygments_lexer": "ipython3",
   "version": "3.7.5"
  }
 },
 "nbformat": 4,
 "nbformat_minor": 2
}
