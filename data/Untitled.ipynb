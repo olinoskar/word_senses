{
 "cells": [
  {
   "cell_type": "code",
   "execution_count": 1,
   "metadata": {},
   "outputs": [],
   "source": [
    "import pandas as pd\n",
    "import numpy as np\n",
    "\n",
    "\n",
    "df = pd.read_csv('word_alignment.csv')"
   ]
  },
  {
   "cell_type": "code",
   "execution_count": 4,
   "metadata": {},
   "outputs": [],
   "source": [
    "df.rename(columns={'English': 'text_en', 'French':'text_fr', 'Spanish':'text_es'}, inplace=True)\n",
    "df = df[1:]"
   ]
  },
  {
   "cell_type": "code",
   "execution_count": 5,
   "metadata": {},
   "outputs": [],
   "source": [
    "l_fr = df.apply(lambda row: len(row['text_en'].split()) - len(row['text_fr'].split()), axis=1).values\n",
    "l_es = df.apply(lambda row: len(row['text_en'].split()) - len(row['text_es'].split()), axis=1).values\n"
   ]
  },
  {
   "cell_type": "code",
   "execution_count": 6,
   "metadata": {},
   "outputs": [],
   "source": [
    "IQR_fr = np.quantile(l_fr, 0.75) - np.quantile(l_fr, 0.25)\n",
    "IQR_es = np.quantile(l_fr, 0.75) - np.quantile(l_fr, 0.25)\n",
    "\n",
    "remove_inds = []\n",
    "\n",
    "for ind, row in df.iterrows():\n",
    "    en_fr = len(row['text_en'].split()) - len(row['text_fr'].split())\n",
    "    en_es = len(row['text_en'].split()) - len(row['text_es'].split())\n",
    "    \n",
    "    if en_fr > 1.75*IQR_fr or en_fr < -1.75*IQR_fr or en_es > 1.75*IQR_es or en_es < -1.75*IQR_es:\n",
    "        remove_inds += [ind]\n",
    "        \n",
    "df = df.loc[~df.index.isin(remove_inds)]\n",
    "df = df.reset_index(drop=True)"
   ]
  },
  {
   "cell_type": "code",
   "execution_count": 8,
   "metadata": {},
   "outputs": [],
   "source": [
    "df.to_csv('data.csv', index=False)"
   ]
  },
  {
   "cell_type": "code",
   "execution_count": 3,
   "metadata": {},
   "outputs": [
    {
     "data": {
      "text/plain": [
       "30962"
      ]
     },
     "execution_count": 3,
     "metadata": {},
     "output_type": "execute_result"
    }
   ],
   "source": []
  },
  {
   "cell_type": "code",
   "execution_count": null,
   "metadata": {},
   "outputs": [],
   "source": []
  }
 ],
 "metadata": {
  "kernelspec": {
   "display_name": "Python 3",
   "language": "python",
   "name": "python3"
  },
  "language_info": {
   "codemirror_mode": {
    "name": "ipython",
    "version": 3
   },
   "file_extension": ".py",
   "mimetype": "text/x-python",
   "name": "python",
   "nbconvert_exporter": "python",
   "pygments_lexer": "ipython3",
   "version": "3.7.5"
  }
 },
 "nbformat": 4,
 "nbformat_minor": 2
}
