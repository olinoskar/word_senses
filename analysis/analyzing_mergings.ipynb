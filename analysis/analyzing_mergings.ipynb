{
 "cells": [
  {
   "cell_type": "code",
   "execution_count": 93,
   "metadata": {},
   "outputs": [],
   "source": [
    "import pandas as pd\n",
    "from sklearn.metrics.pairwise import cosine_similarity\n",
    "\n",
    "df = pd.read_csv('../annotation/annotated/return.csv')"
   ]
  },
  {
   "cell_type": "code",
   "execution_count": 94,
   "metadata": {},
   "outputs": [],
   "source": [
    "df = df.dropna().reset_index()\n",
    "\n"
   ]
  },
  {
   "cell_type": "code",
   "execution_count": 95,
   "metadata": {},
   "outputs": [],
   "source": [
    "cross_tab = pd.crosstab(df['wordnet_sense'], df['label'])"
   ]
  },
  {
   "cell_type": "code",
   "execution_count": 96,
   "metadata": {},
   "outputs": [
    {
     "data": {
      "image/png": "[encoded data removed]",
      "text/plain": [
       "<Figure size 432x288 with 2 Axes>"
      ]
     },
     "metadata": {
      "needs_background": "dark"
     },
     "output_type": "display_data"
    }
   ],
   "source": [
    "arr = 1 - cosine_similarity(cross_tab.to_numpy().transpose())\n",
    "arr[np.diag_indices(arr.shape[0])] = 0\n",
    "sns_plot = sns.heatmap(arr, square=True, linewidths=.5, annot=True)\n",
    "sns_plot.get_figure().savefig('fall.png')\n",
    "\n"
   ]
  },
  {
   "cell_type": "code",
   "execution_count": 97,
   "metadata": {},
   "outputs": [
    {
     "data": {
      "text/html": [
       "<div>\n",
       "<style scoped>\n",
       "    .dataframe tbody tr th:only-of-type {\n",
       "        vertical-align: middle;\n",
       "    }\n",
       "\n",
       "    .dataframe tbody tr th {\n",
       "        vertical-align: top;\n",
       "    }\n",
       "\n",
       "    .dataframe thead th {\n",
       "        text-align: right;\n",
       "    }\n",
       "</style>\n",
       "<table border=\"1\" class=\"dataframe\">\n",
       "  <thead>\n",
       "    <tr style=\"text-align: right;\">\n",
       "      <th></th>\n",
       "      <th>index</th>\n",
       "      <th>Unnamed: 0</th>\n",
       "      <th>text</th>\n",
       "      <th>sense</th>\n",
       "      <th>label</th>\n",
       "      <th>ind</th>\n",
       "      <th>new_label</th>\n",
       "      <th>wordnet_sense</th>\n",
       "    </tr>\n",
       "  </thead>\n",
       "  <tbody>\n",
       "    <tr>\n",
       "      <th>1</th>\n",
       "      <td>1</td>\n",
       "      <td>1</td>\n",
       "      <td>i gave her one , they gave him two , you gave ...</td>\n",
       "      <td>('return', 'revenir', 'volver')</td>\n",
       "      <td>1</td>\n",
       "      <td>19</td>\n",
       "      <td>1</td>\n",
       "      <td>14.0</td>\n",
       "    </tr>\n",
       "    <tr>\n",
       "      <th>5</th>\n",
       "      <td>6</td>\n",
       "      <td>6</td>\n",
       "      <td>a half hour afterward , d’artagnan returned wi...</td>\n",
       "      <td>('return', 'revenir', 'volver')</td>\n",
       "      <td>1</td>\n",
       "      <td>6</td>\n",
       "      <td>1</td>\n",
       "      <td>13.0</td>\n",
       "    </tr>\n",
       "    <tr>\n",
       "      <th>13</th>\n",
       "      <td>17</td>\n",
       "      <td>17</td>\n",
       "      <td>even the couroucous were invisible , and it wa...</td>\n",
       "      <td>('return', 'revenir', 'volver')</td>\n",
       "      <td>1</td>\n",
       "      <td>17</td>\n",
       "      <td>1</td>\n",
       "      <td>13.0</td>\n",
       "    </tr>\n",
       "    <tr>\n",
       "      <th>15</th>\n",
       "      <td>19</td>\n",
       "      <td>19</td>\n",
       "      <td>\" well ! \" answered pencroft , \" i agree with ...</td>\n",
       "      <td>('return', 'revenir', 'volver')</td>\n",
       "      <td>1</td>\n",
       "      <td>16</td>\n",
       "      <td>1</td>\n",
       "      <td>13.0</td>\n",
       "    </tr>\n",
       "    <tr>\n",
       "      <th>16</th>\n",
       "      <td>20</td>\n",
       "      <td>20</td>\n",
       "      <td>near the louvre the four friends met with m. d...</td>\n",
       "      <td>('return', 'revenir', 'volver')</td>\n",
       "      <td>1</td>\n",
       "      <td>14</td>\n",
       "      <td>1</td>\n",
       "      <td>13.0</td>\n",
       "    </tr>\n",
       "    <tr>\n",
       "      <th>...</th>\n",
       "      <td>...</td>\n",
       "      <td>...</td>\n",
       "      <td>...</td>\n",
       "      <td>...</td>\n",
       "      <td>...</td>\n",
       "      <td>...</td>\n",
       "      <td>...</td>\n",
       "      <td>...</td>\n",
       "    </tr>\n",
       "    <tr>\n",
       "      <th>150</th>\n",
       "      <td>217</td>\n",
       "      <td>217</td>\n",
       "      <td>neb , pencroft , and herbert ran also towards ...</td>\n",
       "      <td>('return', 'revenir', 'volver')</td>\n",
       "      <td>1</td>\n",
       "      <td>17</td>\n",
       "      <td>1</td>\n",
       "      <td>16.0</td>\n",
       "    </tr>\n",
       "    <tr>\n",
       "      <th>153</th>\n",
       "      <td>224</td>\n",
       "      <td>224</td>\n",
       "      <td>he ran forward , then returned , and seemed to...</td>\n",
       "      <td>('return', 'revenir', 'volver')</td>\n",
       "      <td>1</td>\n",
       "      <td>5</td>\n",
       "      <td>1</td>\n",
       "      <td>16.0</td>\n",
       "    </tr>\n",
       "    <tr>\n",
       "      <th>154</th>\n",
       "      <td>227</td>\n",
       "      <td>227</td>\n",
       "      <td>there only his memory returned to him . he sho...</td>\n",
       "      <td>('return', 'revenir', 'volver')</td>\n",
       "      <td>1</td>\n",
       "      <td>4</td>\n",
       "      <td>1</td>\n",
       "      <td>21.0</td>\n",
       "    </tr>\n",
       "    <tr>\n",
       "      <th>156</th>\n",
       "      <td>233</td>\n",
       "      <td>233</td>\n",
       "      <td>he could not refrain from a smile of visible s...</td>\n",
       "      <td>('return', 'revenir', 'volver')</td>\n",
       "      <td>1</td>\n",
       "      <td>18</td>\n",
       "      <td>1</td>\n",
       "      <td>13.0</td>\n",
       "    </tr>\n",
       "    <tr>\n",
       "      <th>157</th>\n",
       "      <td>235</td>\n",
       "      <td>235</td>\n",
       "      <td>all the party returned to the chest , which wa...</td>\n",
       "      <td>('return', 'revenir', 'volver')</td>\n",
       "      <td>1</td>\n",
       "      <td>3</td>\n",
       "      <td>1</td>\n",
       "      <td>13.0</td>\n",
       "    </tr>\n",
       "  </tbody>\n",
       "</table>\n",
       "<p>76 rows × 8 columns</p>\n",
       "</div>"
      ],
      "text/plain": [
       "     index  Unnamed: 0                                               text  \\\n",
       "1        1           1  i gave her one , they gave him two , you gave ...   \n",
       "5        6           6  a half hour afterward , d’artagnan returned wi...   \n",
       "13      17          17  even the couroucous were invisible , and it wa...   \n",
       "15      19          19  \" well ! \" answered pencroft , \" i agree with ...   \n",
       "16      20          20  near the louvre the four friends met with m. d...   \n",
       "..     ...         ...                                                ...   \n",
       "150    217         217  neb , pencroft , and herbert ran also towards ...   \n",
       "153    224         224  he ran forward , then returned , and seemed to...   \n",
       "154    227         227  there only his memory returned to him . he sho...   \n",
       "156    233         233  he could not refrain from a smile of visible s...   \n",
       "157    235         235  all the party returned to the chest , which wa...   \n",
       "\n",
       "                               sense  label  ind  new_label  wordnet_sense  \n",
       "1    ('return', 'revenir', 'volver')      1   19          1           14.0  \n",
       "5    ('return', 'revenir', 'volver')      1    6          1           13.0  \n",
       "13   ('return', 'revenir', 'volver')      1   17          1           13.0  \n",
       "15   ('return', 'revenir', 'volver')      1   16          1           13.0  \n",
       "16   ('return', 'revenir', 'volver')      1   14          1           13.0  \n",
       "..                               ...    ...  ...        ...            ...  \n",
       "150  ('return', 'revenir', 'volver')      1   17          1           16.0  \n",
       "153  ('return', 'revenir', 'volver')      1    5          1           16.0  \n",
       "154  ('return', 'revenir', 'volver')      1    4          1           21.0  \n",
       "156  ('return', 'revenir', 'volver')      1   18          1           13.0  \n",
       "157  ('return', 'revenir', 'volver')      1    3          1           13.0  \n",
       "\n",
       "[76 rows x 8 columns]"
      ]
     },
     "execution_count": 97,
     "metadata": {},
     "output_type": "execute_result"
    }
   ],
   "source": [
    "df[df['label'] == 1]"
   ]
  },
  {
   "cell_type": "code",
   "execution_count": 125,
   "metadata": {},
   "outputs": [],
   "source": [
    "import seaborn as sns\n",
    "import matplotlib.pyplot as plt\n",
    "\n",
    "A = [0.12, 0.046, 0.22, 0, 0, 0, 0.15, 0.0031, 0.019, 0.029, 0.067, 0.3, 0.0003, 0.0068, 0.048]\n",
    "B = [0.084, 0.93, 0.95, 1, 0.93, 0.61, 0.018, 0.69, 1, 0.93, 1, 0.51, 0.59, 0.85, 0.91, 0.62, 0.042, 0.31,\n",
    "     0.086, 0.17,0.01, 0.44, 0.15, 0.31, 0.47, 0.54, 0.2, 0.047, 0.033, 0.085, 0.42, 0.24, 0.24, 0.055, 0.18,\n",
    "    1, 0.93, 0.12, 0.052, 0.067, 0.1, 0.012, 0.11, 0.11, 0.31, 0.062, 1, 0.58, 0.13, 1, 0.076, 1, 1,\n",
    "    0.133, 0.124, 0.044, 0.068, 0.79, 0.74, 0.017, 0.96, 0.92, 0.9, 0.036, 0.88, 1, 0.95]\n",
    "\n",
    "A = 1-np.array(A)\n",
    "B = 1-np.array(B)"
   ]
  },
  {
   "cell_type": "code",
   "execution_count": 126,
   "metadata": {},
   "outputs": [
    {
     "data": {
      "image/png": "[encoded data removed]",
      "text/plain": [
       "<Figure size 432x288 with 1 Axes>"
      ]
     },
     "metadata": {},
     "output_type": "display_data"
    }
   ],
   "source": [
    "fig, ax = plt.subplots()\n",
    "sns.set_style(\"white\")\n",
    "sns.kdeplot(A, ax=ax, shade=True, color = 'red', clip=(0,1))\n",
    "sns.kdeplot(B, ax=ax, shade=True, color='blue', clip=(0,1))\n",
    "plt.legend(labels=[\"Don't reject $H_0$\", \"Reject $H_0$\"])\n",
    "sns.set_style(\"white\")\n",
    "fig.savefig('res.png')\n"
   ]
  },
  {
   "cell_type": "code",
   "execution_count": 127,
   "metadata": {},
   "outputs": [],
   "source": [
    "dff = pd.DataFrame(columns=['class', 'value'])\n",
    "for b in B:\n",
    "    dff.loc[len(dff)] = [\"Reject $H_0$\", b]\n",
    "for a in A:\n",
    "    dff.loc[len(dff)] = [\"Don't reject $H_0$\", a]"
   ]
  },
  {
   "cell_type": "code",
   "execution_count": 119,
   "metadata": {},
   "outputs": [
    {
     "data": {
      "image/png": "[encoded data removed]",
      "text/plain": [
       "<Figure size 432x288 with 1 Axes>"
      ]
     },
     "metadata": {},
     "output_type": "display_data"
    }
   ],
   "source": [
    "fig, ax = plt.subplots()\n",
    "sns.set_style(\"white\")\n",
    "\n",
    "plot = sns.boxplot(x=\"class\", y=\"value\", data=dff)\n",
    "ax.set(xlabel='common xlabel', ylabel='common ylabel')\n",
    "ax.set(xlabel='', ylabel='')\n",
    "\n",
    "mybox_red = plot.artists[0]\n",
    "mybox_blue = plot.artists[1]\n",
    "\n",
    "# Change the appearance of that box\n",
    "mybox_red.set_facecolor('blue')\n",
    "mybox_red.set_alpha(0.375)\n",
    "mybox_blue.set_facecolor('red')\n",
    "mybox_blue.set_alpha(0.375)\n",
    "\n",
    "\n",
    "\n",
    "\n",
    "\n"
   ]
  },
  {
   "cell_type": "code",
   "execution_count": 103,
   "metadata": {},
   "outputs": [
    {
     "data": {
      "text/plain": [
       "15"
      ]
     },
     "execution_count": 103,
     "metadata": {},
     "output_type": "execute_result"
    }
   ],
   "source": [
    "len(A)"
   ]
  },
  {
   "cell_type": "code",
   "execution_count": 104,
   "metadata": {},
   "outputs": [
    {
     "data": {
      "text/plain": [
       "67"
      ]
     },
     "execution_count": 104,
     "metadata": {},
     "output_type": "execute_result"
    }
   ],
   "source": [
    "len(B)"
   ]
  },
  {
   "cell_type": "code",
   "execution_count": 44,
   "metadata": {},
   "outputs": [
    {
     "data": {
      "text/html": [
       "<div>\n",
       "<style scoped>\n",
       "    .dataframe tbody tr th:only-of-type {\n",
       "        vertical-align: middle;\n",
       "    }\n",
       "\n",
       "    .dataframe tbody tr th {\n",
       "        vertical-align: top;\n",
       "    }\n",
       "\n",
       "    .dataframe thead th {\n",
       "        text-align: right;\n",
       "    }\n",
       "</style>\n",
       "<table border=\"1\" class=\"dataframe\">\n",
       "  <thead>\n",
       "    <tr style=\"text-align: right;\">\n",
       "      <th></th>\n",
       "      <th>text</th>\n",
       "      <th>sense</th>\n",
       "      <th>label</th>\n",
       "      <th>ind</th>\n",
       "      <th>new_label</th>\n",
       "    </tr>\n",
       "  </thead>\n",
       "  <tbody>\n",
       "    <tr>\n",
       "      <th>12</th>\n",
       "      <td>i waited now his return ; eager to disburthen ...</td>\n",
       "      <td>('return', 'retour', 'volver')</td>\n",
       "      <td>5</td>\n",
       "      <td>4</td>\n",
       "      <td>3</td>\n",
       "    </tr>\n",
       "    <tr>\n",
       "      <th>27</th>\n",
       "      <td>on your return you were received by an august ...</td>\n",
       "      <td>('return', 'retour', 'volver')</td>\n",
       "      <td>5</td>\n",
       "      <td>2</td>\n",
       "      <td>3</td>\n",
       "    </tr>\n",
       "    <tr>\n",
       "      <th>29</th>\n",
       "      <td>\" we mean , captain , \" answered pencroft , \" ...</td>\n",
       "      <td>('return', 'retour', 'volver')</td>\n",
       "      <td>5</td>\n",
       "      <td>28</td>\n",
       "      <td>3</td>\n",
       "    </tr>\n",
       "    <tr>\n",
       "      <th>40</th>\n",
       "      <td>but always , in the midst of these plans , pre...</td>\n",
       "      <td>('return', 'retour', 'volver')</td>\n",
       "      <td>5</td>\n",
       "      <td>16</td>\n",
       "      <td>3</td>\n",
       "    </tr>\n",
       "    <tr>\n",
       "      <th>42</th>\n",
       "      <td>we shall see that on our return . \"</td>\n",
       "      <td>('return', 'retour', 'volver')</td>\n",
       "      <td>5</td>\n",
       "      <td>6</td>\n",
       "      <td>3</td>\n",
       "    </tr>\n",
       "    <tr>\n",
       "      <th>59</th>\n",
       "      <td>\" well ; buckingham heard by some means , no d...</td>\n",
       "      <td>('return', 'retour', 'volver')</td>\n",
       "      <td>5</td>\n",
       "      <td>14</td>\n",
       "      <td>3</td>\n",
       "    </tr>\n",
       "    <tr>\n",
       "      <th>64</th>\n",
       "      <td>he was unaware that the frenchman and his two ...</td>\n",
       "      <td>('return', 'retour', 'volver')</td>\n",
       "      <td>5</td>\n",
       "      <td>36</td>\n",
       "      <td>3</td>\n",
       "    </tr>\n",
       "    <tr>\n",
       "      <th>90</th>\n",
       "      <td>as to athos , he went out without any mystery ...</td>\n",
       "      <td>('return', 'retour', 'volver')</td>\n",
       "      <td>5</td>\n",
       "      <td>44</td>\n",
       "      <td>3</td>\n",
       "    </tr>\n",
       "    <tr>\n",
       "      <th>103</th>\n",
       "      <td>\" shall you see him on your return , monsieur ...</td>\n",
       "      <td>('return', 'retour', 'volver')</td>\n",
       "      <td>5</td>\n",
       "      <td>7</td>\n",
       "      <td>3</td>\n",
       "    </tr>\n",
       "    <tr>\n",
       "      <th>112</th>\n",
       "      <td>\" first , \" said he , \" i will make a calculat...</td>\n",
       "      <td>('return', 'retour', 'volver')</td>\n",
       "      <td>5</td>\n",
       "      <td>24</td>\n",
       "      <td>3</td>\n",
       "    </tr>\n",
       "    <tr>\n",
       "      <th>179</th>\n",
       "      <td>i will see the queen ; i will relate to her th...</td>\n",
       "      <td>('return', 'retour', 'volver')</td>\n",
       "      <td>5</td>\n",
       "      <td>41</td>\n",
       "      <td>3</td>\n",
       "    </tr>\n",
       "    <tr>\n",
       "      <th>184</th>\n",
       "      <td>she reflected likewise that the cardinal would...</td>\n",
       "      <td>('return', 'retour', 'volver')</td>\n",
       "      <td>5</td>\n",
       "      <td>11</td>\n",
       "      <td>3</td>\n",
       "    </tr>\n",
       "    <tr>\n",
       "      <th>190</th>\n",
       "      <td>\" oh , i saw the snare , and i answered you wo...</td>\n",
       "      <td>('return', 'retour', 'volver')</td>\n",
       "      <td>5</td>\n",
       "      <td>19</td>\n",
       "      <td>3</td>\n",
       "    </tr>\n",
       "    <tr>\n",
       "      <th>195</th>\n",
       "      <td>she is a famous craft , you see , and she beha...</td>\n",
       "      <td>('return', 'retour', 'volver')</td>\n",
       "      <td>5</td>\n",
       "      <td>21</td>\n",
       "      <td>3</td>\n",
       "    </tr>\n",
       "    <tr>\n",
       "      <th>209</th>\n",
       "      <td>besides , it might be supposed that in all pro...</td>\n",
       "      <td>('return', 'retour', 'volver')</td>\n",
       "      <td>5</td>\n",
       "      <td>65</td>\n",
       "      <td>3</td>\n",
       "    </tr>\n",
       "    <tr>\n",
       "      <th>222</th>\n",
       "      <td>but there the confidence of d’artagnan stopped...</td>\n",
       "      <td>('return', 'retour', 'volver')</td>\n",
       "      <td>5</td>\n",
       "      <td>14</td>\n",
       "      <td>3</td>\n",
       "    </tr>\n",
       "    <tr>\n",
       "      <th>232</th>\n",
       "      <td>the return to la rochelle , therefore , was pr...</td>\n",
       "      <td>('return', 'retour', 'volver')</td>\n",
       "      <td>5</td>\n",
       "      <td>1</td>\n",
       "      <td>3</td>\n",
       "    </tr>\n",
       "  </tbody>\n",
       "</table>\n",
       "</div>"
      ],
      "text/plain": [
       "                                                  text  \\\n",
       "12   i waited now his return ; eager to disburthen ...   \n",
       "27   on your return you were received by an august ...   \n",
       "29   \" we mean , captain , \" answered pencroft , \" ...   \n",
       "40   but always , in the midst of these plans , pre...   \n",
       "42                 we shall see that on our return . \"   \n",
       "59   \" well ; buckingham heard by some means , no d...   \n",
       "64   he was unaware that the frenchman and his two ...   \n",
       "90   as to athos , he went out without any mystery ...   \n",
       "103  \" shall you see him on your return , monsieur ...   \n",
       "112  \" first , \" said he , \" i will make a calculat...   \n",
       "179  i will see the queen ; i will relate to her th...   \n",
       "184  she reflected likewise that the cardinal would...   \n",
       "190  \" oh , i saw the snare , and i answered you wo...   \n",
       "195  she is a famous craft , you see , and she beha...   \n",
       "209  besides , it might be supposed that in all pro...   \n",
       "222  but there the confidence of d’artagnan stopped...   \n",
       "232  the return to la rochelle , therefore , was pr...   \n",
       "\n",
       "                              sense  label  ind  new_label  \n",
       "12   ('return', 'retour', 'volver')      5    4          3  \n",
       "27   ('return', 'retour', 'volver')      5    2          3  \n",
       "29   ('return', 'retour', 'volver')      5   28          3  \n",
       "40   ('return', 'retour', 'volver')      5   16          3  \n",
       "42   ('return', 'retour', 'volver')      5    6          3  \n",
       "59   ('return', 'retour', 'volver')      5   14          3  \n",
       "64   ('return', 'retour', 'volver')      5   36          3  \n",
       "90   ('return', 'retour', 'volver')      5   44          3  \n",
       "103  ('return', 'retour', 'volver')      5    7          3  \n",
       "112  ('return', 'retour', 'volver')      5   24          3  \n",
       "179  ('return', 'retour', 'volver')      5   41          3  \n",
       "184  ('return', 'retour', 'volver')      5   11          3  \n",
       "190  ('return', 'retour', 'volver')      5   19          3  \n",
       "195  ('return', 'retour', 'volver')      5   21          3  \n",
       "209  ('return', 'retour', 'volver')      5   65          3  \n",
       "222  ('return', 'retour', 'volver')      5   14          3  \n",
       "232  ('return', 'retour', 'volver')      5    1          3  "
      ]
     },
     "execution_count": 44,
     "metadata": {},
     "output_type": "execute_result"
    }
   ],
   "source": [
    "df1 = df[df['label'] == 5]\n",
    "df1"
   ]
  },
  {
   "cell_type": "code",
   "execution_count": 41,
   "metadata": {},
   "outputs": [
    {
     "data": {
      "text/plain": [
       "'finally , as the hour for her interview with the count approached , milady had everything about her darkened , and ordered kitty to return to her own chamber , and introduce de wardes whenever he presented himself .'"
      ]
     },
     "execution_count": 41,
     "metadata": {},
     "output_type": "execute_result"
    }
   ],
   "source": [
    "df1.loc[181, 'text']"
   ]
  },
  {
   "cell_type": "code",
   "execution_count": 8,
   "metadata": {},
   "outputs": [],
   "source": []
  },
  {
   "cell_type": "code",
   "execution_count": 9,
   "metadata": {},
   "outputs": [
    {
     "name": "stdout",
     "output_type": "stream",
     "text": [
      "-PRON- PRP\n",
      "brush VBD\n",
      "away RP\n",
      "some DT\n",
      "leave NNS\n",
      "from IN\n",
      "-PRON- PRP$\n",
      "lap NN\n"
     ]
    }
   ],
   "source": []
  },
  {
   "cell_type": "code",
   "execution_count": null,
   "metadata": {},
   "outputs": [],
   "source": []
  }
 ],
 "metadata": {
  "kernelspec": {
   "display_name": "Python 3",
   "language": "python",
   "name": "python3"
  },
  "language_info": {
   "codemirror_mode": {
    "name": "ipython",
    "version": 3
   },
   "file_extension": ".py",
   "mimetype": "text/x-python",
   "name": "python",
   "nbconvert_exporter": "python",
   "pygments_lexer": "ipython3",
   "version": "3.7.5"
  }
 },
 "nbformat": 4,
 "nbformat_minor": 2
}
